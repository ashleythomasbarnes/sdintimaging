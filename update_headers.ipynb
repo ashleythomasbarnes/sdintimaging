{
 "cells": [
  {
   "cell_type": "code",
   "execution_count": 3,
   "id": "1d919c59-2bb9-41c3-8863-77c954ef97e5",
   "metadata": {},
   "outputs": [],
   "source": [
    "# Import necessary libraries/modules\n",
    "from astropy.io import fits\n",
    "import numpy as np\n",
    "from astropy import units as u\n",
    "from spectral_cube import SpectralCube"
   ]
  },
  {
   "cell_type": "code",
   "execution_count": 5,
   "id": "2145c9d9-b8eb-40fd-963b-ee3f70b9104d",
   "metadata": {},
   "outputs": [],
   "source": [
    "# Load the FITS file containing the cube data\n",
    "hdu = fits.open('./../cubes/cloudA-n2hp10.fits')[0] # Open the FITS file and get the first HDU (Header/Data Unit)\n",
    "header = hdu.header  # Extract the header from the HDU\n",
    "data = hdu.data  # Extract the data (cube) from the HDU\n",
    "\n",
    "# Convert the data from Kelvin to Jansky per beam\n",
    "bmaj = header['BMAJ'] * u.deg  # Major axis of the beam in degrees\n",
    "bmin = header['BMIN'] * u.deg  # Minor axis of the beam in degrees\n",
    "\n",
    "# Conversion factor from FWHM to sigma for Gaussian beams\n",
    "fwhm_to_sigma = 1. / (8 * np.log(2))**0.5\n",
    "\n",
    "# Calculate the area of the beam\n",
    "beam_area = 2. * np.pi * (bmaj * bmin * fwhm_to_sigma**2)\n",
    "\n",
    "# Extract rest frequency from the header and convert to Hz\n",
    "freq = header['RESTFREQ'] * u.Hz\n",
    "\n",
    "# Define the equivalency for converting brightness temperature to flux density\n",
    "equiv = u.brightness_temperature(freq)\n",
    "\n",
    "# Convert the data from Kelvin to Jansky per beam area\n",
    "data = data * (u.K).to(u.Jy / beam_area, equivalencies=equiv)\n",
    "header['BUNIT'] = 'Jy/beam'  # Update the unit in the header\n",
    "\n",
    "# Create a new HDU with the modified data and header\n",
    "hdu_new = fits.PrimaryHDU(data, header)\n",
    "\n",
    "# Remove any PV (Projection Value) cards from the header as they are not needed\n",
    "del hdu_new.header['PV*']\n",
    "\n",
    "# Update header with new projection types for the spatial axes\n",
    "hdu_new.header['CTYPE1'] = 'RA---TAN'  # Right Ascension with tangent projection\n",
    "hdu_new.header['CTYPE2'] = 'DEC--TAN'  # Declination with tangent projection\n",
    "\n",
    "# Set placeholders for telescope and instrument (assuming ALMA for this example)\n",
    "hdu_new.header['TELESCOP'] = 'ALMA'\n",
    "hdu_new.header['INSTRUME'] = 'ALMA'\n",
    "\n",
    "# Update the spectral axis using the spectral_cube library\n",
    "cube = SpectralCube.read(hdu_new)\n",
    "freq_new = 9.317340200000E+10 * u.Hz  # Define the new reference frequency\n",
    "cube = cube.with_spectral_unit(u.km / u.s, velocity_convention='radio', rest_value=freq_new)  # Convert to velocity\n",
    "cube = cube.with_spectral_unit(u.Hz)  # Convert back to frequency in Hz\n",
    "\n",
    "hdu_new = cube.hdu.copy()  # Extract the modified HDU from the cube\n",
    "hdu_new.header['BUNIT'] = 'Jy/beam'  # Ensure the unit in the header is set correctly\n",
    "\n",
    "# Save the modified data and header to a new FITS file, overwriting if it already exists\n",
    "hdu_new.writeto('./cloudA_iram_n2hp10.fits', overwrite=True)"
   ]
  },
  {
   "cell_type": "code",
   "execution_count": null,
   "id": "c04a664f-93f5-4d83-8cd7-734b6a6c0930",
   "metadata": {},
   "outputs": [],
   "source": []
  }
 ],
 "metadata": {
  "kernelspec": {
   "display_name": "Python 3 (ipykernel)",
   "language": "python",
   "name": "python3"
  },
  "language_info": {
   "codemirror_mode": {
    "name": "ipython",
    "version": 3
   },
   "file_extension": ".py",
   "mimetype": "text/x-python",
   "name": "python",
   "nbconvert_exporter": "python",
   "pygments_lexer": "ipython3",
   "version": "3.9.13"
  }
 },
 "nbformat": 4,
 "nbformat_minor": 5
}
